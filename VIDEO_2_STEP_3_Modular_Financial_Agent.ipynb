{
  "nbformat": 4,
  "nbformat_minor": 0,
  "metadata": {
    "colab": {
      "provenance": [],
      "collapsed_sections": [
        "KCK_g-_AMrpK",
        "zlR8t8zAMrpL",
        "JUCPai5xi6aA",
        "4SHCWpr41Fn-",
        "GEUIwxye3Ojv",
        "8XAODzjX-PN4",
        "n3KSEN9IS7A5",
        "2MS-yhZO2erI",
        "4SS7ZmCN2nxf"
      ],
      "include_colab_link": true
    },
    "kernelspec": {
      "name": "python3",
      "display_name": "Python 3"
    },
    "language_info": {
      "name": "python"
    }
  },
  "cells": [
    {
      "cell_type": "markdown",
      "metadata": {
        "id": "view-in-github",
        "colab_type": "text"
      },
      "source": [
        "<a href=\"https://colab.research.google.com/github/ahmedmusawir/modern-react-agents-youtube/blob/main/VIDEO_2_STEP_3_Modular_Financial_Agent.ipynb\" target=\"_parent\"><img src=\"https://colab.research.google.com/assets/colab-badge.svg\" alt=\"Open In Colab\"/></a>"
      ]
    },
    {
      "cell_type": "markdown",
      "source": [
        "# SETUP"
      ],
      "metadata": {
        "id": "bgumTZK0MrpJ"
      }
    },
    {
      "cell_type": "markdown",
      "source": [
        "### INSTALLATIONS"
      ],
      "metadata": {
        "id": "KCK_g-_AMrpK"
      }
    },
    {
      "cell_type": "code",
      "source": [
        "!pip install -q langchain\n",
        "!pip install -q langchain_community\n",
        "!pip install -q langgraph\n",
        "\n",
        "!pip install -q langchain_openai\n",
        "!pip install -q langchain-anthropic\n",
        "!pip install -q langchain-groq\n",
        "!pip install -q langchain-google-genai\n",
        "\n",
        "!pip show langchain\n",
        "\n",
        "#!pip install openai\n",
        "# !pip install -U langchain_openai\n",
        "#!pip install langchain --upgrade\n",
        "#!pip install --upgrade pip\n",
        "# !pip install wikipedia\n",
        "#!pip install langchain_community\n",
        "#!pip install chromadb\n",
        "#!pip uninstall pydantic -y\n",
        "#!pip install pydantic==1.8.2\n",
        "#!pip show pydantic\n",
        "#!pip install pydantic\n",
        "#!kill -9 -1\n",
        "#!pip install tiktoken\n",
        "#!pip install pypdf"
      ],
      "metadata": {
        "colab": {
          "base_uri": "https://localhost:8080/"
        },
        "outputId": "33104ff5-927b-49a8-d841-2f1c77c783df",
        "collapsed": true,
        "id": "JOApKdabMrpK"
      },
      "execution_count": null,
      "outputs": [
        {
          "output_type": "stream",
          "name": "stdout",
          "text": [
            "\u001b[2K   \u001b[90m━━━━━━━━━━━━━━━━━━━━━━━━━━━━━━━━━━━━━━━━\u001b[0m \u001b[32m2.5/2.5 MB\u001b[0m \u001b[31m16.4 MB/s\u001b[0m eta \u001b[36m0:00:00\u001b[0m\n",
            "\u001b[2K   \u001b[90m━━━━━━━━━━━━━━━━━━━━━━━━━━━━━━━━━━━━━━━━\u001b[0m \u001b[32m1.0/1.0 MB\u001b[0m \u001b[31m14.2 MB/s\u001b[0m eta \u001b[36m0:00:00\u001b[0m\n",
            "\u001b[2K   \u001b[90m━━━━━━━━━━━━━━━━━━━━━━━━━━━━━━━━━━━━━━━━\u001b[0m \u001b[32m412.4/412.4 kB\u001b[0m \u001b[31m8.9 MB/s\u001b[0m eta \u001b[36m0:00:00\u001b[0m\n",
            "\u001b[2K   \u001b[90m━━━━━━━━━━━━━━━━━━━━━━━━━━━━━━━━━━━━━━━━\u001b[0m \u001b[32m50.8/50.8 kB\u001b[0m \u001b[31m1.5 MB/s\u001b[0m eta \u001b[36m0:00:00\u001b[0m\n",
            "\u001b[2K   \u001b[90m━━━━━━━━━━━━━━━━━━━━━━━━━━━━━━━━━━━━━━━━\u001b[0m \u001b[32m145.8/145.8 kB\u001b[0m \u001b[31m3.2 MB/s\u001b[0m eta \u001b[36m0:00:00\u001b[0m\n",
            "\u001b[2K   \u001b[90m━━━━━━━━━━━━━━━━━━━━━━━━━━━━━━━━━━━━━━━━\u001b[0m \u001b[32m44.7/44.7 kB\u001b[0m \u001b[31m1.9 MB/s\u001b[0m eta \u001b[36m0:00:00\u001b[0m\n",
            "\u001b[2K   \u001b[90m━━━━━━━━━━━━━━━━━━━━━━━━━━━━━━━━━━━━━━━━\u001b[0m \u001b[32m54.4/54.4 kB\u001b[0m \u001b[31m1.8 MB/s\u001b[0m eta \u001b[36m0:00:00\u001b[0m\n",
            "\u001b[2K   \u001b[90m━━━━━━━━━━━━━━━━━━━━━━━━━━━━━━━━━━━━━━━━\u001b[0m \u001b[32m1.2/1.2 MB\u001b[0m \u001b[31m16.0 MB/s\u001b[0m eta \u001b[36m0:00:00\u001b[0m\n",
            "\u001b[2K   \u001b[90m━━━━━━━━━━━━━━━━━━━━━━━━━━━━━━━━━━━━━━━━\u001b[0m \u001b[32m222.8/222.8 kB\u001b[0m \u001b[31m5.6 MB/s\u001b[0m eta \u001b[36m0:00:00\u001b[0m\n",
            "\u001b[2K   \u001b[90m━━━━━━━━━━━━━━━━━━━━━━━━━━━━━━━━━━━━━━━━\u001b[0m \u001b[32m109.6/109.6 kB\u001b[0m \u001b[31m1.5 MB/s\u001b[0m eta \u001b[36m0:00:00\u001b[0m\n",
            "\u001b[2K   \u001b[90m━━━━━━━━━━━━━━━━━━━━━━━━━━━━━━━━━━━━━━━━\u001b[0m \u001b[32m41.7/41.7 kB\u001b[0m \u001b[31m1.2 MB/s\u001b[0m eta \u001b[36m0:00:00\u001b[0m\n",
            "\u001b[?25hName: langchain\n",
            "Version: 0.3.16\n",
            "Summary: Building applications with LLMs through composability\n",
            "Home-page: https://github.com/langchain-ai/langchain\n",
            "Author: \n",
            "Author-email: \n",
            "License: MIT\n",
            "Location: /usr/local/lib/python3.11/dist-packages\n",
            "Requires: aiohttp, langchain-core, langchain-text-splitters, langsmith, numpy, pydantic, PyYAML, requests, SQLAlchemy, tenacity\n",
            "Required-by: langchain-community\n"
          ]
        }
      ]
    },
    {
      "cell_type": "markdown",
      "source": [
        "### LOADING API KEY"
      ],
      "metadata": {
        "id": "FLoeGUiOMrpL"
      }
    },
    {
      "cell_type": "code",
      "source": [
        "import os\n",
        "os.environ[\"OPENAI_API_KEY\"] =\"sk-proj-ulX3zMWA8***********8CUAYWg7y8Ge8pROt\"\n",
        "os.environ[\"ANTHROPIC_API_KEY\"]=\"sk-ant-api03-Sf****************HmFelcjpHlXZEl8-IqYrs4bmmTp3hDmAaVang-IsYoZAAA\"\n",
        "os.environ[\"GOOGLE_API_KEY\"] =\"AIzaSyC***************oMTJMtvzSDmziA\"\n",
        "os.environ[\"GROQ_API_KEY\"] =\"gsk_DIdLqIGij0******************bW5XXVUtlxWcRRXwc3EDrc\"\n",
        "\n",
        "\n",
        "os.environ[\"LANGCHAIN_TRACING_V2\"] = \"true\"\n",
        "os.environ[\"LANGCHAIN_PROJECT\"] = f\"TEST\"\n",
        "os.environ[\"LANGCHAIN_ENDPOINT\"] = \"https://api.smith.langchain.com\"\n",
        "os.environ[\"LANGCHAIN_API_KEY\"] = \"lsv2_pt_4ce9448208*******************5c_37d096d1b5\""
      ],
      "metadata": {
        "id": "SAJFRdQ6MrpL"
      },
      "execution_count": null,
      "outputs": []
    },
    {
      "cell_type": "markdown",
      "source": [
        "## TESTING THE MODEL RESPONSE"
      ],
      "metadata": {
        "id": "zlR8t8zAMrpL"
      }
    },
    {
      "cell_type": "markdown",
      "source": [
        "### OPENAI"
      ],
      "metadata": {
        "id": "JUCPai5xi6aA"
      }
    },
    {
      "cell_type": "code",
      "source": [
        "from langchain_openai import ChatOpenAI\n",
        "import pprint\n",
        "\n",
        "# Create an instance of the OpenAI class\n",
        "# llm = ChatOpenAI(model=\"gpt-4o\")\n",
        "llm = ChatOpenAI(model=\"o1-mini\")\n",
        "# llm = ChatOpenAI(model=\"o1-preview\")\n",
        "\n",
        "# Generate text\n",
        "prompt = \"Who is Sam Altman (in one sentence)\"\n",
        "response = llm.invoke(prompt)\n",
        "# print(response)\n",
        "pprint.pprint(response.content)"
      ],
      "metadata": {
        "id": "Sfc1cHMYieYg",
        "colab": {
          "base_uri": "https://localhost:8080/"
        },
        "outputId": "7e37a28e-7820-492d-eae8-747054792fd8"
      },
      "execution_count": null,
      "outputs": [
        {
          "output_type": "stream",
          "name": "stdout",
          "text": [
            "('Sam Altman is an American entrepreneur and investor, best known as the CEO '\n",
            " 'of OpenAI and the former president of the startup accelerator Y Combinator.')\n"
          ]
        }
      ]
    },
    {
      "cell_type": "markdown",
      "source": [
        "### ANTHROPIC"
      ],
      "metadata": {
        "id": "aekPpJgMi_qA"
      }
    },
    {
      "cell_type": "code",
      "source": [
        "from langchain_anthropic import ChatAnthropic\n",
        "from langchain.prompts import ChatPromptTemplate\n",
        "\n",
        "claude_model = ChatAnthropic(\n",
        "    model=\"claude-3-5-sonnet-20240620\",\n",
        "    api_key=os.getenv(\"ANTHROPIC_API_KEY\"),  # Pass the API key here\n",
        "    temperature=0,\n",
        "    max_tokens=1024,\n",
        "    timeout=None,\n",
        "    max_retries=2,\n",
        "    # other params...\n",
        ")\n",
        "\n",
        "prompt = \"Who is Sam Altman (in one sentence)\"\n",
        "response = claude_model.invoke(prompt)\n",
        "\n",
        "# print(response.content)\n",
        "pprint.pprint(response.content)\n"
      ],
      "metadata": {
        "colab": {
          "base_uri": "https://localhost:8080/"
        },
        "id": "Rbp3-2nyjEOZ",
        "outputId": "1a84635c-5d13-4094-d9e5-37126cfdde05"
      },
      "execution_count": null,
      "outputs": [
        {
          "output_type": "stream",
          "name": "stdout",
          "text": [
            "('Sam Altman is an American entrepreneur and investor, best known as the CEO '\n",
            " 'of OpenAI and former president of Y Combinator, who has played a significant '\n",
            " 'role in shaping the tech industry and advancing artificial intelligence '\n",
            " 'research.')\n"
          ]
        }
      ]
    },
    {
      "cell_type": "markdown",
      "source": [
        "### GROQ - LLAMA 3.1"
      ],
      "metadata": {
        "id": "4SHCWpr41Fn-"
      }
    },
    {
      "cell_type": "code",
      "source": [
        "from langchain_groq import ChatGroq\n",
        "\n",
        "groq_model = ChatGroq(\n",
        "    model=\"llama-3.3-70b-versatile\",\n",
        "    # model=\"llama-3.1-70b-versatile\",\n",
        "    temperature=0,\n",
        "    max_tokens=1024,\n",
        "    timeout=None,\n",
        "    max_retries=2,\n",
        "    # other params...\n",
        ")\n",
        "\n",
        "from langchain.schema import HumanMessage, SystemMessage, AIMessage\n",
        "\n",
        "messages = [\n",
        "    SystemMessage(content=\"You are a helpful AI assistant. When you introduce yourself, let the user know what LLM you are based on.\"),\n",
        "    HumanMessage(content=\"Who is Sam Altman (in one sentence)?\")\n",
        "]\n",
        "\n",
        "response = groq_model.invoke(messages)\n",
        "\n",
        "# print(response.content)\n",
        "pprint.pprint(response.content)"
      ],
      "metadata": {
        "id": "FVkHytUb1Nue",
        "colab": {
          "base_uri": "https://localhost:8080/"
        },
        "outputId": "ef69b580-28d7-42c3-cafe-ba150638bf97"
      },
      "execution_count": null,
      "outputs": [
        {
          "output_type": "stream",
          "name": "stdout",
          "text": [
            "(\"I'm an AI assistant based on LLaMA, and Sam Altman is the CEO of OpenAI, a \"\n",
            " 'leading artificial intelligence research organization and developer of AI '\n",
            " 'models like myself, as well as other notable technologies such as ChatGPT.')\n"
          ]
        }
      ]
    },
    {
      "cell_type": "markdown",
      "source": [
        "### GOOGLE GEMINI PRO"
      ],
      "metadata": {
        "id": "GEUIwxye3Ojv"
      }
    },
    {
      "cell_type": "code",
      "source": [
        "from langchain_google_genai import ChatGoogleGenerativeAI\n",
        "\n",
        "google_model = ChatGoogleGenerativeAI(\n",
        "    model=\"gemini-2.0-flash-exp\",\n",
        "    # model=\"gemini-1.5-pro\",\n",
        "    api_key=os.getenv(\"GOOGLE_API_KEY\"),  # Pass the API key here\n",
        "    temperature=0,\n",
        "    max_tokens=1024,\n",
        "    timeout=None,\n",
        "    max_retries=2,\n",
        "    # other params...\n",
        ")\n",
        "\n",
        "from langchain.schema import HumanMessage, SystemMessage, AIMessage\n",
        "\n",
        "messages = [\n",
        "    SystemMessage(content=\"You are a helpful AI assistant. When you introduce yourself, let the user know what specific LLM you are based on.\"),\n",
        "    HumanMessage(content=\"Who is Sam Harris (in one sentence)?\")\n",
        "]\n",
        "\n",
        "response = google_model.invoke(messages)\n",
        "\n",
        "print(response.content)\n",
        "# pprint.pprint(response.content)"
      ],
      "metadata": {
        "colab": {
          "base_uri": "https://localhost:8080/"
        },
        "id": "vvk8jCcL3ST_",
        "outputId": "e7fbb317-4e62-4c0e-b105-543f29ef5d4a"
      },
      "execution_count": null,
      "outputs": [
        {
          "output_type": "stream",
          "name": "stdout",
          "text": [
            "I am a large language model, trained by Google.\n",
            "\n",
            "Sam Harris is an American author, philosopher, neuroscientist, and podcast host known for his views on atheism, secularism, free will, and ethics.\n"
          ]
        }
      ]
    },
    {
      "cell_type": "markdown",
      "source": [
        "# ReAct Agent in My Graph"
      ],
      "metadata": {
        "id": "2QoJSMxbFDcn"
      }
    },
    {
      "cell_type": "markdown",
      "source": [
        "## Modular Weather Agent"
      ],
      "metadata": {
        "id": "8XAODzjX-PN4"
      }
    },
    {
      "cell_type": "code",
      "source": [
        "from langchain_openai import ChatOpenAI\n",
        "from langchain_core.tools import tool\n",
        "from langgraph.prebuilt import create_react_agent\n",
        "\n",
        "# Define a function to modularize the weather agent\n",
        "def weather_agent(city: str):\n",
        "    \"\"\"\n",
        "    Creates a modular weather agent with its own toolset.\n",
        "    Returns the weather_agent for integration into the graph.\n",
        "    \"\"\"\n",
        "    # Define the LLM\n",
        "    llm = ChatOpenAI(model_name='gpt-4o', temperature=0.5)\n",
        "\n",
        "    # Define the weather tool\n",
        "    @tool\n",
        "    def get_weather(city: str):\n",
        "        \"\"\"Call to get the current weather. Use this anytime asked about the weather.\"\"\"\n",
        "        if city.lower() == \"paris\":\n",
        "            return \"It's always sunny in Paris.\"\n",
        "        else:\n",
        "            return \"It's cold and wet.\"\n",
        "\n",
        "    # Create the weather agent\n",
        "    weather_agent = create_react_agent(llm, tools=[get_weather])\n",
        "    return weather_agent\n"
      ],
      "metadata": {
        "id": "Ce-kPw-K-Tv4"
      },
      "execution_count": null,
      "outputs": []
    },
    {
      "cell_type": "markdown",
      "source": [
        "## Modular Financial Agent"
      ],
      "metadata": {
        "id": "n3KSEN9IS7A5"
      }
    },
    {
      "cell_type": "code",
      "source": [
        "from langchain_groq import ChatGroq\n",
        "from langchain_core.tools import tool\n",
        "from langgraph.prebuilt import create_react_agent\n",
        "from langchain_google_genai import ChatGoogleGenerativeAI\n",
        "from langchain_anthropic import ChatAnthropic\n",
        "\n",
        "\n",
        "# Define a function to modularize the financial agent\n",
        "def financial_agent(company: str):\n",
        "    \"\"\"\n",
        "    Creates a modular financial agent with its own toolset.\n",
        "    Returns the financial_agent for integration into the graph.\n",
        "    \"\"\"\n",
        "    # Define the LLM\n",
        "    # llm = ChatOpenAI(model_name='gpt-4o', temperature=0.5)\n",
        "\n",
        "    # llm = ChatAnthropic(\n",
        "    #     # model=\"claude-3-5-sonnet-20241022\",\n",
        "    #     model=\"claude-3-opus-latest\",\n",
        "    #     temperature=0.5,\n",
        "    # )\n",
        "\n",
        "    # llm = ChatGoogleGenerativeAI(\n",
        "    #     # model=\"gemini-2.0-flash-exp\",\n",
        "    #     model=\"gemini-1.5-pro\",\n",
        "    #     temperature=0.5,\n",
        "    #     max_tokens=1024,\n",
        "    #     timeout=None,\n",
        "    #     max_retries=2,\n",
        "    # )\n",
        "\n",
        "    llm = ChatGroq(\n",
        "        # model=\"llama-3.1-70b-versatile\",\n",
        "        # model=\"llama-3.3-70b-versatile\",\n",
        "        model=\"deepseek-r1-distill-llama-70b\",\n",
        "        temperature=0.5,\n",
        "    )\n",
        "\n",
        "    # Define the financial tool\n",
        "    @tool\n",
        "    def get_financial_status(company: str):\n",
        "        \"\"\"Call to get the financial status of a company. Use this anytime asked about the finances of a company\"\"\"\n",
        "        if company.lower() == \"google\":\n",
        "            return \"Not so good! Google just lost the lawsuit.\"\n",
        "        else:\n",
        "            return f\"{company} is financially sound, getting better!\"\n",
        "\n",
        "    # The Custom System Prompt for the Agent\n",
        "    custom_system_prompt = \"You are a financial report assistant. You only report by using the fincial tool you're given\"\n",
        "\n",
        "    # Create the financial agent\n",
        "    financial_agent = create_react_agent(llm, tools=[get_financial_status], state_modifier=custom_system_prompt)\n",
        "    return financial_agent\n",
        "\n",
        "# Usage example for graph integration:\n",
        "# financial_agent = financial_agent()\n",
        "# graph_builder.add_node(\"financial_agent\", financial_agent)\n"
      ],
      "metadata": {
        "id": "qGR_vC_fS_1Y"
      },
      "execution_count": null,
      "outputs": []
    },
    {
      "cell_type": "markdown",
      "source": [
        "## Main Graph"
      ],
      "metadata": {
        "id": "Uo4uuuTe-KeX"
      }
    },
    {
      "cell_type": "code",
      "source": [
        "from typing import TypedDict, Annotated\n",
        "from langchain_openai import ChatOpenAI\n",
        "from langchain_core.tools import tool\n",
        "from langgraph.graph import StateGraph, END\n",
        "from langgraph.prebuilt import create_react_agent\n",
        "from langgraph.graph.message import add_messages\n",
        "\n",
        "# Define the state\n",
        "class State(TypedDict):\n",
        "    messages: Annotated[list, add_messages]\n",
        "\n",
        "# Initialize the graph builder\n",
        "graph_builder = StateGraph(State)\n",
        "\n",
        "# Define the LLM\n",
        "llm = ChatOpenAI(model_name='gpt-4o', temperature=0.5)\n",
        "\n",
        "# Define the prompt_nexus node\n",
        "def prompt_nexus(state: State):\n",
        "    return {\"messages\": [llm.invoke(state[\"messages\"])]}\n",
        "\n",
        "# Add the prompt_nexus node to the graph\n",
        "graph_builder.add_node(\"prompt_nexus\", prompt_nexus)\n",
        "\n",
        "# ============================== WEATHER AGENT ====================================\n",
        "# Add Weather Agent Node\n",
        "graph_builder.add_node(\"weather_agent\", weather_agent)\n",
        "\n",
        "# Define the Weather Agent Routing function\n",
        "def route_to_weather(state: State):\n",
        "    if any(\"weather\" in message.content.lower() for message in state[\"messages\"]):\n",
        "        return \"weather_agent\"\n",
        "    return END\n",
        "\n",
        "# Add conditional edges\n",
        "graph_builder.add_conditional_edges(\"prompt_nexus\", route_to_weather, {\"weather_agent\": \"weather_agent\", END: END})\n",
        "\n",
        "# Add normal edge to Weather Agent\n",
        "graph_builder.add_edge(\"weather_agent\", END)\n",
        "\n",
        "# ============================== FINANCIAL AGENT ====================================\n",
        "# Add Financial Agent Node\n",
        "graph_builder.add_node(\"financial_agent\", financial_agent)\n",
        "\n",
        "# Define the Financial Agent Routing function\n",
        "def route_to_finance(state: State):\n",
        "    if any(\"financial\" in message.content.lower() or \"finance\" in message.content.lower() for message in state[\"messages\"]):\n",
        "        return \"financial_agent\"\n",
        "    return END\n",
        "\n",
        "# Add conditional edges\n",
        "graph_builder.add_conditional_edges(\"prompt_nexus\", route_to_finance, {\"financial_agent\": \"financial_agent\", END: END})\n",
        "\n",
        "# Add normal edge to Financial Agent\n",
        "graph_builder.add_edge(\"financial_agent\", END)\n",
        "\n",
        "\n",
        "# ============================== SET ENTRY POINT ===========================================\n",
        "graph_builder.set_entry_point(\"prompt_nexus\")\n",
        "\n",
        "# ============================== COMPILE THE GRAPH ======================================\n",
        "graph = graph_builder.compile()\n",
        "graph\n"
      ],
      "metadata": {
        "id": "6O7-Ui0LFKVH",
        "colab": {
          "base_uri": "https://localhost:8080/",
          "height": 350
        },
        "outputId": "b71fbc7e-b52c-4cdb-c081-57e0cc773268"
      },
      "execution_count": null,
      "outputs": [
        {
          "output_type": "execute_result",
          "data": {
            "text/plain": [
              "<langgraph.graph.state.CompiledStateGraph object at 0x7ebcec2db550>"
            ],
            "image/png": "[encoded data removed]"
          },
          "metadata": {},
          "execution_count": 8
        }
      ]
    },
    {
      "cell_type": "code",
      "source": [
        "response = graph.invoke({'messages': ('user', 'give me the financial status of OpenAI')})\n",
        "# response = graph.invoke({'messages': ('user', 'how is the weather in Paris')})\n",
        "\n",
        "print('Assistant: ', response['messages'][-1].content)"
      ],
      "metadata": {
        "colab": {
          "base_uri": "https://localhost:8080/",
          "height": 339
        },
        "id": "V1M3r-Gq7xe5",
        "outputId": "064f0ee6-3160-477c-dfa9-c9af875ee76e"
      },
      "execution_count": null,
      "outputs": [
        {
          "output_type": "error",
          "ename": "TypeError",
          "evalue": "create_react_agent() missing 1 required positional argument: 'tools'",
          "traceback": [
            "\u001b[0;31m---------------------------------------------------------------------------\u001b[0m",
            "\u001b[0;31mTypeError\u001b[0m                                 Traceback (most recent call last)",
            "\u001b[0;32m<ipython-input-9-269267d823fb>\u001b[0m in \u001b[0;36m<cell line: 0>\u001b[0;34m()\u001b[0m\n\u001b[0;32m----> 1\u001b[0;31m \u001b[0mresponse\u001b[0m \u001b[0;34m=\u001b[0m \u001b[0mgraph\u001b[0m\u001b[0;34m.\u001b[0m\u001b[0minvoke\u001b[0m\u001b[0;34m(\u001b[0m\u001b[0;34m{\u001b[0m\u001b[0;34m'messages'\u001b[0m\u001b[0;34m:\u001b[0m \u001b[0;34m(\u001b[0m\u001b[0;34m'user'\u001b[0m\u001b[0;34m,\u001b[0m \u001b[0;34m'give me the financial status of OpenAI'\u001b[0m\u001b[0;34m)\u001b[0m\u001b[0;34m}\u001b[0m\u001b[0;34m)\u001b[0m\u001b[0;34m\u001b[0m\u001b[0;34m\u001b[0m\u001b[0m\n\u001b[0m\u001b[1;32m      2\u001b[0m \u001b[0;31m# response = graph.invoke({'messages': ('user', 'how is the weather in Paris')})\u001b[0m\u001b[0;34m\u001b[0m\u001b[0;34m\u001b[0m\u001b[0m\n\u001b[1;32m      3\u001b[0m \u001b[0;34m\u001b[0m\u001b[0m\n\u001b[1;32m      4\u001b[0m \u001b[0mprint\u001b[0m\u001b[0;34m(\u001b[0m\u001b[0;34m'Assistant: '\u001b[0m\u001b[0;34m,\u001b[0m \u001b[0mresponse\u001b[0m\u001b[0;34m[\u001b[0m\u001b[0;34m'messages'\u001b[0m\u001b[0;34m]\u001b[0m\u001b[0;34m[\u001b[0m\u001b[0;34m-\u001b[0m\u001b[0;36m1\u001b[0m\u001b[0;34m]\u001b[0m\u001b[0;34m.\u001b[0m\u001b[0mcontent\u001b[0m\u001b[0;34m)\u001b[0m\u001b[0;34m\u001b[0m\u001b[0;34m\u001b[0m\u001b[0m\n",
            "\u001b[0;32m/usr/local/lib/python3.11/dist-packages/langgraph/pregel/__init__.py\u001b[0m in \u001b[0;36minvoke\u001b[0;34m(self, input, config, stream_mode, output_keys, interrupt_before, interrupt_after, debug, **kwargs)\u001b[0m\n\u001b[1;32m   1959\u001b[0m         \u001b[0;32melse\u001b[0m\u001b[0;34m:\u001b[0m\u001b[0;34m\u001b[0m\u001b[0;34m\u001b[0m\u001b[0m\n\u001b[1;32m   1960\u001b[0m             \u001b[0mchunks\u001b[0m \u001b[0;34m=\u001b[0m \u001b[0;34m[\u001b[0m\u001b[0;34m]\u001b[0m\u001b[0;34m\u001b[0m\u001b[0;34m\u001b[0m\u001b[0m\n\u001b[0;32m-> 1961\u001b[0;31m         for chunk in self.stream(\n\u001b[0m\u001b[1;32m   1962\u001b[0m             \u001b[0minput\u001b[0m\u001b[0;34m,\u001b[0m\u001b[0;34m\u001b[0m\u001b[0;34m\u001b[0m\u001b[0m\n\u001b[1;32m   1963\u001b[0m             \u001b[0mconfig\u001b[0m\u001b[0;34m,\u001b[0m\u001b[0;34m\u001b[0m\u001b[0;34m\u001b[0m\u001b[0m\n",
            "\u001b[0;32m/usr/local/lib/python3.11/dist-packages/langgraph/pregel/__init__.py\u001b[0m in \u001b[0;36mstream\u001b[0;34m(self, input, config, stream_mode, output_keys, interrupt_before, interrupt_after, debug, subgraphs)\u001b[0m\n\u001b[1;32m   1668\u001b[0m                 \u001b[0;31m# with channel updates applied only at the transition between steps.\u001b[0m\u001b[0;34m\u001b[0m\u001b[0;34m\u001b[0m\u001b[0m\n\u001b[1;32m   1669\u001b[0m                 \u001b[0;32mwhile\u001b[0m \u001b[0mloop\u001b[0m\u001b[0;34m.\u001b[0m\u001b[0mtick\u001b[0m\u001b[0;34m(\u001b[0m\u001b[0minput_keys\u001b[0m\u001b[0;34m=\u001b[0m\u001b[0mself\u001b[0m\u001b[0;34m.\u001b[0m\u001b[0minput_channels\u001b[0m\u001b[0;34m)\u001b[0m\u001b[0;34m:\u001b[0m\u001b[0;34m\u001b[0m\u001b[0;34m\u001b[0m\u001b[0m\n\u001b[0;32m-> 1670\u001b[0;31m                     for _ in runner.tick(\n\u001b[0m\u001b[1;32m   1671\u001b[0m                         \u001b[0mloop\u001b[0m\u001b[0;34m.\u001b[0m\u001b[0mtasks\u001b[0m\u001b[0;34m.\u001b[0m\u001b[0mvalues\u001b[0m\u001b[0;34m(\u001b[0m\u001b[0;34m)\u001b[0m\u001b[0;34m,\u001b[0m\u001b[0;34m\u001b[0m\u001b[0;34m\u001b[0m\u001b[0m\n\u001b[1;32m   1672\u001b[0m                         \u001b[0mtimeout\u001b[0m\u001b[0;34m=\u001b[0m\u001b[0mself\u001b[0m\u001b[0;34m.\u001b[0m\u001b[0mstep_timeout\u001b[0m\u001b[0;34m,\u001b[0m\u001b[0;34m\u001b[0m\u001b[0;34m\u001b[0m\u001b[0m\n",
            "\u001b[0;32m/usr/local/lib/python3.11/dist-packages/langgraph/pregel/runner.py\u001b[0m in \u001b[0;36mtick\u001b[0;34m(self, tasks, reraise, timeout, retry_policy, get_waiter)\u001b[0m\n\u001b[1;32m    228\u001b[0m             \u001b[0mt\u001b[0m \u001b[0;34m=\u001b[0m \u001b[0mtasks\u001b[0m\u001b[0;34m[\u001b[0m\u001b[0;36m0\u001b[0m\u001b[0;34m]\u001b[0m\u001b[0;34m\u001b[0m\u001b[0;34m\u001b[0m\u001b[0m\n\u001b[1;32m    229\u001b[0m             \u001b[0;32mtry\u001b[0m\u001b[0;34m:\u001b[0m\u001b[0;34m\u001b[0m\u001b[0;34m\u001b[0m\u001b[0m\n\u001b[0;32m--> 230\u001b[0;31m                 run_with_retry(\n\u001b[0m\u001b[1;32m    231\u001b[0m                     \u001b[0mt\u001b[0m\u001b[0;34m,\u001b[0m\u001b[0;34m\u001b[0m\u001b[0;34m\u001b[0m\u001b[0m\n\u001b[1;32m    232\u001b[0m                     \u001b[0mretry_policy\u001b[0m\u001b[0;34m,\u001b[0m\u001b[0;34m\u001b[0m\u001b[0;34m\u001b[0m\u001b[0m\n",
            "\u001b[0;32m/usr/local/lib/python3.11/dist-packages/langgraph/pregel/retry.py\u001b[0m in \u001b[0;36mrun_with_retry\u001b[0;34m(task, retry_policy, configurable)\u001b[0m\n\u001b[1;32m     38\u001b[0m             \u001b[0mtask\u001b[0m\u001b[0;34m.\u001b[0m\u001b[0mwrites\u001b[0m\u001b[0;34m.\u001b[0m\u001b[0mclear\u001b[0m\u001b[0;34m(\u001b[0m\u001b[0;34m)\u001b[0m\u001b[0;34m\u001b[0m\u001b[0;34m\u001b[0m\u001b[0m\n\u001b[1;32m     39\u001b[0m             \u001b[0;31m# run the task\u001b[0m\u001b[0;34m\u001b[0m\u001b[0;34m\u001b[0m\u001b[0m\n\u001b[0;32m---> 40\u001b[0;31m             \u001b[0;32mreturn\u001b[0m \u001b[0mtask\u001b[0m\u001b[0;34m.\u001b[0m\u001b[0mproc\u001b[0m\u001b[0;34m.\u001b[0m\u001b[0minvoke\u001b[0m\u001b[0;34m(\u001b[0m\u001b[0mtask\u001b[0m\u001b[0;34m.\u001b[0m\u001b[0minput\u001b[0m\u001b[0;34m,\u001b[0m \u001b[0mconfig\u001b[0m\u001b[0;34m)\u001b[0m\u001b[0;34m\u001b[0m\u001b[0;34m\u001b[0m\u001b[0m\n\u001b[0m\u001b[1;32m     41\u001b[0m         \u001b[0;32mexcept\u001b[0m \u001b[0mParentCommand\u001b[0m \u001b[0;32mas\u001b[0m \u001b[0mexc\u001b[0m\u001b[0;34m:\u001b[0m\u001b[0;34m\u001b[0m\u001b[0;34m\u001b[0m\u001b[0m\n\u001b[1;32m     42\u001b[0m             \u001b[0mns\u001b[0m\u001b[0;34m:\u001b[0m \u001b[0mstr\u001b[0m \u001b[0;34m=\u001b[0m \u001b[0mconfig\u001b[0m\u001b[0;34m[\u001b[0m\u001b[0mCONF\u001b[0m\u001b[0;34m]\u001b[0m\u001b[0;34m[\u001b[0m\u001b[0mCONFIG_KEY_CHECKPOINT_NS\u001b[0m\u001b[0;34m]\u001b[0m\u001b[0;34m\u001b[0m\u001b[0;34m\u001b[0m\u001b[0m\n",
            "\u001b[0;32m/usr/local/lib/python3.11/dist-packages/langgraph/utils/runnable.py\u001b[0m in \u001b[0;36minvoke\u001b[0;34m(self, input, config, **kwargs)\u001b[0m\n\u001b[1;32m    460\u001b[0m                 )\n\u001b[1;32m    461\u001b[0m                 \u001b[0;32mif\u001b[0m \u001b[0mi\u001b[0m \u001b[0;34m==\u001b[0m \u001b[0;36m0\u001b[0m\u001b[0;34m:\u001b[0m\u001b[0;34m\u001b[0m\u001b[0;34m\u001b[0m\u001b[0m\n\u001b[0;32m--> 462\u001b[0;31m                     \u001b[0minput\u001b[0m \u001b[0;34m=\u001b[0m \u001b[0mstep\u001b[0m\u001b[0;34m.\u001b[0m\u001b[0minvoke\u001b[0m\u001b[0;34m(\u001b[0m\u001b[0minput\u001b[0m\u001b[0;34m,\u001b[0m \u001b[0mconfig\u001b[0m\u001b[0;34m,\u001b[0m \u001b[0;34m**\u001b[0m\u001b[0mkwargs\u001b[0m\u001b[0;34m)\u001b[0m\u001b[0;34m\u001b[0m\u001b[0;34m\u001b[0m\u001b[0m\n\u001b[0m\u001b[1;32m    463\u001b[0m                 \u001b[0;32melse\u001b[0m\u001b[0;34m:\u001b[0m\u001b[0;34m\u001b[0m\u001b[0;34m\u001b[0m\u001b[0m\n\u001b[1;32m    464\u001b[0m                     \u001b[0minput\u001b[0m \u001b[0;34m=\u001b[0m \u001b[0mstep\u001b[0m\u001b[0;34m.\u001b[0m\u001b[0minvoke\u001b[0m\u001b[0;34m(\u001b[0m\u001b[0minput\u001b[0m\u001b[0;34m,\u001b[0m \u001b[0mconfig\u001b[0m\u001b[0;34m)\u001b[0m\u001b[0;34m\u001b[0m\u001b[0;34m\u001b[0m\u001b[0m\n",
            "\u001b[0;32m/usr/local/lib/python3.11/dist-packages/langgraph/utils/runnable.py\u001b[0m in \u001b[0;36minvoke\u001b[0;34m(self, input, config, **kwargs)\u001b[0m\n\u001b[1;32m    224\u001b[0m         \u001b[0;32melse\u001b[0m\u001b[0;34m:\u001b[0m\u001b[0;34m\u001b[0m\u001b[0;34m\u001b[0m\u001b[0m\n\u001b[1;32m    225\u001b[0m             \u001b[0mcontext\u001b[0m\u001b[0;34m.\u001b[0m\u001b[0mrun\u001b[0m\u001b[0;34m(\u001b[0m\u001b[0m_set_config_context\u001b[0m\u001b[0;34m,\u001b[0m \u001b[0mconfig\u001b[0m\u001b[0;34m)\u001b[0m\u001b[0;34m\u001b[0m\u001b[0;34m\u001b[0m\u001b[0m\n\u001b[0;32m--> 226\u001b[0;31m             \u001b[0mret\u001b[0m \u001b[0;34m=\u001b[0m \u001b[0mcontext\u001b[0m\u001b[0;34m.\u001b[0m\u001b[0mrun\u001b[0m\u001b[0;34m(\u001b[0m\u001b[0mself\u001b[0m\u001b[0;34m.\u001b[0m\u001b[0mfunc\u001b[0m\u001b[0;34m,\u001b[0m \u001b[0;34m*\u001b[0m\u001b[0margs\u001b[0m\u001b[0;34m,\u001b[0m \u001b[0;34m**\u001b[0m\u001b[0mkwargs\u001b[0m\u001b[0;34m)\u001b[0m\u001b[0;34m\u001b[0m\u001b[0;34m\u001b[0m\u001b[0m\n\u001b[0m\u001b[1;32m    227\u001b[0m         \u001b[0;32mif\u001b[0m \u001b[0misinstance\u001b[0m\u001b[0;34m(\u001b[0m\u001b[0mret\u001b[0m\u001b[0;34m,\u001b[0m \u001b[0mRunnable\u001b[0m\u001b[0;34m)\u001b[0m \u001b[0;32mand\u001b[0m \u001b[0mself\u001b[0m\u001b[0;34m.\u001b[0m\u001b[0mrecurse\u001b[0m\u001b[0;34m:\u001b[0m\u001b[0;34m\u001b[0m\u001b[0;34m\u001b[0m\u001b[0m\n\u001b[1;32m    228\u001b[0m             \u001b[0;32mreturn\u001b[0m \u001b[0mret\u001b[0m\u001b[0;34m.\u001b[0m\u001b[0minvoke\u001b[0m\u001b[0;34m(\u001b[0m\u001b[0minput\u001b[0m\u001b[0;34m,\u001b[0m \u001b[0mconfig\u001b[0m\u001b[0;34m)\u001b[0m\u001b[0;34m\u001b[0m\u001b[0;34m\u001b[0m\u001b[0m\n",
            "\u001b[0;32m<ipython-input-7-47832a3e0d4e>\u001b[0m in \u001b[0;36mfinancial_agent\u001b[0;34m(company)\u001b[0m\n\u001b[1;32m     50\u001b[0m \u001b[0;34m\u001b[0m\u001b[0m\n\u001b[1;32m     51\u001b[0m     \u001b[0;31m# Create the financial agent\u001b[0m\u001b[0;34m\u001b[0m\u001b[0;34m\u001b[0m\u001b[0m\n\u001b[0;32m---> 52\u001b[0;31m     \u001b[0mfinancial_agent\u001b[0m \u001b[0;34m=\u001b[0m \u001b[0mcreate_react_agent\u001b[0m\u001b[0;34m(\u001b[0m\u001b[0mllm\u001b[0m\u001b[0;34m,\u001b[0m \u001b[0mstate_modifier\u001b[0m\u001b[0;34m=\u001b[0m\u001b[0mcustom_system_prompt\u001b[0m\u001b[0;34m)\u001b[0m\u001b[0;34m\u001b[0m\u001b[0;34m\u001b[0m\u001b[0m\n\u001b[0m\u001b[1;32m     53\u001b[0m     \u001b[0;31m# financial_agent = create_react_agent(llm, tools=[get_financial_status], state_modifier=custom_system_prompt)\u001b[0m\u001b[0;34m\u001b[0m\u001b[0;34m\u001b[0m\u001b[0m\n\u001b[1;32m     54\u001b[0m     \u001b[0;32mreturn\u001b[0m \u001b[0mfinancial_agent\u001b[0m\u001b[0;34m\u001b[0m\u001b[0;34m\u001b[0m\u001b[0m\n",
            "\u001b[0;32m/usr/local/lib/python3.11/dist-packages/langgraph/prebuilt/chat_agent_executor.py\u001b[0m in \u001b[0;36mwrapper\u001b[0;34m(*args, **kwargs)\u001b[0m\n\u001b[1;32m    151\u001b[0m \u001b[0;34m\u001b[0m\u001b[0m\n\u001b[1;32m    152\u001b[0m         \u001b[0mkwargs\u001b[0m\u001b[0;34m[\u001b[0m\u001b[0;34m\"prompt\"\u001b[0m\u001b[0;34m]\u001b[0m \u001b[0;34m=\u001b[0m \u001b[0mprompt\u001b[0m\u001b[0;34m\u001b[0m\u001b[0;34m\u001b[0m\u001b[0m\n\u001b[0;32m--> 153\u001b[0;31m         \u001b[0;32mreturn\u001b[0m \u001b[0mfunc\u001b[0m\u001b[0;34m(\u001b[0m\u001b[0;34m*\u001b[0m\u001b[0margs\u001b[0m\u001b[0;34m,\u001b[0m \u001b[0;34m**\u001b[0m\u001b[0mkwargs\u001b[0m\u001b[0;34m)\u001b[0m\u001b[0;34m\u001b[0m\u001b[0;34m\u001b[0m\u001b[0m\n\u001b[0m\u001b[1;32m    154\u001b[0m \u001b[0;34m\u001b[0m\u001b[0m\n\u001b[1;32m    155\u001b[0m     \u001b[0;32mreturn\u001b[0m \u001b[0mcast\u001b[0m\u001b[0;34m(\u001b[0m\u001b[0mF\u001b[0m\u001b[0;34m,\u001b[0m \u001b[0mwrapper\u001b[0m\u001b[0;34m)\u001b[0m\u001b[0;34m\u001b[0m\u001b[0;34m\u001b[0m\u001b[0m\n",
            "\u001b[0;31mTypeError\u001b[0m: create_react_agent() missing 1 required positional argument: 'tools'"
          ]
        }
      ]
    },
    {
      "cell_type": "markdown",
      "source": [
        "## STEP 7: Add Conversional Memory & Compile Graph"
      ],
      "metadata": {
        "id": "2MS-yhZO2erI"
      }
    },
    {
      "cell_type": "code",
      "execution_count": null,
      "metadata": {
        "id": "84ae5d62-1342-46e6-9188-99878eaabd4d"
      },
      "outputs": [],
      "source": [
        "!pip install -q langgraph-checkpoint-sqlite"
      ]
    },
    {
      "cell_type": "code",
      "execution_count": null,
      "metadata": {
        "id": "3b12114d-2b9c-44ec-90ef-be5a672a322a",
        "collapsed": true,
        "colab": {
          "base_uri": "https://localhost:8080/",
          "height": 350
        },
        "outputId": "547ced0b-c384-4f24-e721-64b2fe0b3d80"
      },
      "outputs": [
        {
          "output_type": "execute_result",
          "data": {
            "text/plain": [
              "<langgraph.graph.state.CompiledStateGraph object at 0x7e3f56e10a90>"
            ],
            "image/png": "[encoded data removed]"
          },
          "metadata": {},
          "execution_count": 14
        }
      ],
      "source": [
        "from langgraph.checkpoint.sqlite import SqliteSaver\n",
        "from langgraph.checkpoint.memory import MemorySaver\n",
        "\n",
        "# memory = SqliteSaver.from_conn_string(':memory:')\n",
        "# memory = SqliteSaver.from_conn_string('sqlite:///graph.db')\n",
        "memory = MemorySaver()\n",
        "\n",
        "graph = graph_builder.compile(checkpointer=memory) # ADDING MEMORY\n",
        "\n",
        "graph"
      ]
    },
    {
      "cell_type": "markdown",
      "source": [
        "## STEP 8: Chat With Your Graph"
      ],
      "metadata": {
        "id": "4SS7ZmCN2nxf"
      }
    },
    {
      "cell_type": "code",
      "source": [
        "from langchain_core.messages import HumanMessage\n",
        "\n",
        "while True:\n",
        "\n",
        "    user_input = input('User: ')\n",
        "    if user_input.lower() in ['quit', 'exit', 'bye',  'q']:\n",
        "        print('Goodbye!')\n",
        "        break\n",
        "\n",
        "    config = {'configurable': {'thread_id': '1'}}\n",
        "\n",
        "    # response = graph.invoke({'messages': ('user', user_input)})\n",
        "    response = graph.invoke({'messages': ('user', user_input)}, config=config)\n",
        "\n",
        "    print('Assistant: ', response['messages'][-1].content)\n",
        "    print('-' * 50)"
      ],
      "metadata": {
        "id": "_0N5uT6BbnJ1",
        "colab": {
          "base_uri": "https://localhost:8080/"
        },
        "outputId": "6869935a-bc6a-407c-8dd3-3300406e12ec"
      },
      "execution_count": null,
      "outputs": [
        {
          "output_type": "stream",
          "name": "stdout",
          "text": [
            "User: hi I'm moose from atlanta\n",
            "Assistant:  Hi Moose from Atlanta! How can I assist you today?\n",
            "--------------------------------------------------\n",
            "User: how's the weather in my city\n",
            "Assistant:  The weather in Atlanta is currently cold and wet. Make sure to bundle up and stay dry if you're heading out!\n",
            "--------------------------------------------------\n",
            "User: thanx my friend ... you are awesome\n",
            "Assistant:  You're welcome, Moose! I'm glad I could help. If you have any more questions or need assistance, feel free to reach out. Have a great day!\n",
            "--------------------------------------------------\n",
            "User: bye\n",
            "Goodbye!\n"
          ]
        }
      ]
    }
  ]
}