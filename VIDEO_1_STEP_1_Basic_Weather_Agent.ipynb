{
  "nbformat": 4,
  "nbformat_minor": 0,
  "metadata": {
    "colab": {
      "provenance": [],
      "collapsed_sections": [
        "cq5SYtIiEKbm"
      ],
      "include_colab_link": true
    },
    "kernelspec": {
      "name": "python3",
      "display_name": "Python 3"
    },
    "language_info": {
      "name": "python"
    }
  },
  "cells": [
    {
      "cell_type": "markdown",
      "metadata": {
        "id": "view-in-github",
        "colab_type": "text"
      },
      "source": [
        "<a href=\"https://colab.research.google.com/github/ahmedmusawir/modern-react-agents-youtube/blob/main/VIDEO_1_STEP_1_Basic_Weather_Agent.ipynb\" target=\"_parent\"><img src=\"https://colab.research.google.com/assets/colab-badge.svg\" alt=\"Open In Colab\"/></a>"
      ]
    },
    {
      "cell_type": "markdown",
      "source": [
        "# SETUP"
      ],
      "metadata": {
        "id": "W5Hf61xxECLQ"
      }
    },
    {
      "cell_type": "markdown",
      "source": [
        "### INSTALLATIONS"
      ],
      "metadata": {
        "id": "GwJwumfzuhkq"
      }
    },
    {
      "cell_type": "code",
      "source": [
        "!pip install -q langchain\n",
        "!pip install -q langchain_openai\n",
        "!pip install -q langchain_community\n",
        "!pip install -q langgraph\n",
        "!pip show langchain\n",
        "!pip show langgraph"
      ],
      "metadata": {
        "id": "ijfht7wVdjQj",
        "colab": {
          "base_uri": "https://localhost:8080/"
        },
        "outputId": "c43dfe11-8bc1-49a7-ccdb-38e33cfeafe8"
      },
      "execution_count": null,
      "outputs": [
        {
          "output_type": "stream",
          "name": "stdout",
          "text": [
            "Name: langchain\n",
            "Version: 0.3.15\n",
            "Summary: Building applications with LLMs through composability\n",
            "Home-page: https://github.com/langchain-ai/langchain\n",
            "Author: \n",
            "Author-email: \n",
            "License: MIT\n",
            "Location: /usr/local/lib/python3.11/dist-packages\n",
            "Requires: aiohttp, langchain-core, langchain-text-splitters, langsmith, numpy, pydantic, PyYAML, requests, SQLAlchemy, tenacity\n",
            "Required-by: langchain-community\n",
            "Name: langgraph\n",
            "Version: 0.2.67\n",
            "Summary: Building stateful, multi-actor applications with LLMs\n",
            "Home-page: https://www.github.com/langchain-ai/langgraph\n",
            "Author: \n",
            "Author-email: \n",
            "License: MIT\n",
            "Location: /usr/local/lib/python3.11/dist-packages\n",
            "Requires: langchain-core, langgraph-checkpoint, langgraph-sdk\n",
            "Required-by: \n"
          ]
        }
      ]
    },
    {
      "cell_type": "markdown",
      "source": [
        "### LOADING API KEY"
      ],
      "metadata": {
        "id": "2M08vPOMEGfn"
      }
    },
    {
      "cell_type": "code",
      "source": [
        "import os\n",
        "os.environ[\"OPENAI_API_KEY\"] =\"sk-proj-ulX3********************U8CUAYWg7y8Ge8pROt\""
      ],
      "metadata": {
        "id": "RlxEmS1CaM5v"
      },
      "execution_count": null,
      "outputs": []
    },
    {
      "cell_type": "markdown",
      "source": [
        "### TESTING THE MODEL RESPONSE"
      ],
      "metadata": {
        "id": "cq5SYtIiEKbm"
      }
    },
    {
      "cell_type": "code",
      "source": [
        "from langchain_openai import ChatOpenAI\n",
        "import pprint\n",
        "\n",
        "# Create an instance of the OpenAI class\n",
        "llm = ChatOpenAI(model=\"gpt-4o\")\n",
        "\n",
        "# Generate text\n",
        "prompt = \"Who is Trump (in one sentence)\"\n",
        "response = llm.invoke(prompt)\n",
        "\n",
        "# print(response)\n",
        "pprint.pprint(response.content)"
      ],
      "metadata": {
        "id": "pY09s9cmZ6nQ",
        "outputId": "bae374ee-dd56-4443-a039-e7aa5f1b945e",
        "colab": {
          "base_uri": "https://localhost:8080/"
        }
      },
      "execution_count": null,
      "outputs": [
        {
          "output_type": "stream",
          "name": "stdout",
          "text": [
            "('Donald Trump is a businessman and television personality who served as the '\n",
            " '45th President of the United States from 2017 to 2021.')\n"
          ]
        }
      ]
    },
    {
      "cell_type": "markdown",
      "source": [
        "# ReAct Agent in My Graph"
      ],
      "metadata": {
        "id": "2QoJSMxbFDcn"
      }
    },
    {
      "cell_type": "code",
      "source": [
        "from typing import TypedDict, Annotated\n",
        "from langchain_openai import ChatOpenAI\n",
        "from langchain_core.tools import tool\n",
        "from langgraph.graph import StateGraph, END\n",
        "from langgraph.prebuilt import create_react_agent\n",
        "from langgraph.graph.message import add_messages\n",
        "\n",
        "# Define the state\n",
        "class State(TypedDict):\n",
        "    messages: Annotated[list, add_messages]\n",
        "\n",
        "# Initialize the graph builder\n",
        "graph_builder = StateGraph(State)\n",
        "\n",
        "# Define the LLM\n",
        "llm = ChatOpenAI(model_name='gpt-4o', temperature=0.5)\n",
        "\n",
        "# Define the prompt_nexus node\n",
        "def prompt_nexus(state: State):\n",
        "    return {\"messages\": [llm.invoke(state[\"messages\"])]}\n",
        "\n",
        "# Add the prompt_nexus node to the graph\n",
        "graph_builder.add_node(\"prompt_nexus\", prompt_nexus)\n",
        "\n",
        "# Define the weather tool\n",
        "@tool\n",
        "def get_weather(city: str):\n",
        "    \"\"\"Call to get the current weather. Use this anytime asked about the weather\"\"\"\n",
        "\n",
        "    if city.lower() == \"paris\":\n",
        "        return \"It's always sunny in Paris.\"\n",
        "    else:\n",
        "        return \"It's cold and wet.\"\n",
        "\n",
        "# Create the weather agent\n",
        "weather_agent = create_react_agent(llm, tools=[get_weather])\n",
        "\n",
        "# Add Agent Node\n",
        "graph_builder.add_node(\"weather_agent\", weather_agent)\n",
        "\n",
        "# Define the routing function\n",
        "def route_to_weather(state: State):\n",
        "    if any(\"weather\" in message.content.lower() for message in state[\"messages\"]):\n",
        "        return \"weather_agent\"\n",
        "    return END\n",
        "\n",
        "# Add conditional edges\n",
        "graph_builder.add_conditional_edges(\"prompt_nexus\", route_to_weather, {\"weather_agent\": \"weather_agent\", END: END})\n",
        "\n",
        "# Add normal edge\n",
        "graph_builder.add_edge(\"weather_agent\", END)\n",
        "\n",
        "# Set entry point\n",
        "graph_builder.set_entry_point(\"prompt_nexus\")\n",
        "\n",
        "# Compile the graph\n",
        "graph = graph_builder.compile()\n",
        "graph\n"
      ],
      "metadata": {
        "id": "6O7-Ui0LFKVH",
        "colab": {
          "base_uri": "https://localhost:8080/",
          "height": 350
        },
        "outputId": "d3a82c10-2aba-41de-d634-9fbe3e9e258b"
      },
      "execution_count": null,
      "outputs": [
        {
          "output_type": "execute_result",
          "data": {
            "text/plain": [
              "<langgraph.graph.state.CompiledStateGraph object at 0x7d2fb51a4d90>"
            ],
            "image/png": "[encoded data removed]"
          },
          "metadata": {},
          "execution_count": 17
        }
      ]
    },
    {
      "cell_type": "markdown",
      "source": [
        "## Quick Test"
      ],
      "metadata": {
        "id": "Rbztrq6TfcyR"
      }
    },
    {
      "cell_type": "code",
      "source": [
        "# response = graph.invoke({'messages': ('user', 'who is donald trump?')})\n",
        "# response = graph.invoke({'messages': ('user', 'how is the weather in paris?')})\n",
        "response = graph.invoke({'messages': ('user', 'how about the weather in london?')})\n",
        "\n",
        "print('Assistant: ', response['messages'][-1].content)"
      ],
      "metadata": {
        "colab": {
          "base_uri": "https://localhost:8080/"
        },
        "id": "V1M3r-Gq7xe5",
        "outputId": "a591bbc5-a73a-41c9-a63b-05da0b03a9ed"
      },
      "execution_count": null,
      "outputs": [
        {
          "output_type": "stream",
          "name": "stdout",
          "text": [
            "Assistant:  The current weather in London is cold and wet.\n"
          ]
        }
      ]
    }
  ]
}