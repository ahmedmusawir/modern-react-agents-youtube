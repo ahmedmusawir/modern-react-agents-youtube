{
  "nbformat": 4,
  "nbformat_minor": 0,
  "metadata": {
    "colab": {
      "provenance": [],
      "collapsed_sections": [
        "zlR8t8zAMrpL",
        "JUCPai5xi6aA",
        "4SHCWpr41Fn-",
        "GEUIwxye3Ojv"
      ],
      "include_colab_link": true
    },
    "kernelspec": {
      "name": "python3",
      "display_name": "Python 3"
    },
    "language_info": {
      "name": "python"
    }
  },
  "cells": [
    {
      "cell_type": "markdown",
      "metadata": {
        "id": "view-in-github",
        "colab_type": "text"
      },
      "source": [
        "<a href=\"https://colab.research.google.com/github/ahmedmusawir/modern-react-agents-youtube/blob/main/VIDEO_3_STEP_4_Modular_Email_Agent.ipynb\" target=\"_parent\"><img src=\"https://colab.research.google.com/assets/colab-badge.svg\" alt=\"Open In Colab\"/></a>"
      ]
    },
    {
      "cell_type": "markdown",
      "source": [
        "# SETUP"
      ],
      "metadata": {
        "id": "bgumTZK0MrpJ"
      }
    },
    {
      "cell_type": "markdown",
      "source": [
        "### INSTALLATIONS"
      ],
      "metadata": {
        "id": "KCK_g-_AMrpK"
      }
    },
    {
      "cell_type": "code",
      "source": [
        "!pip install -q langchain\n",
        "!pip install -q langchain_community\n",
        "!pip install -q langgraph\n",
        "!pip install -q resend\n",
        "\n",
        "!pip install -q langchain_openai\n",
        "!pip install -q langchain-anthropic\n",
        "!pip install -q langchain-groq\n",
        "!pip install -q langchain-google-genai\n",
        "\n",
        "!pip show langchain\n",
        "!pip show langgraph"
      ],
      "metadata": {
        "colab": {
          "base_uri": "https://localhost:8080/"
        },
        "outputId": "02c3537e-0bae-40dc-8bdf-0646722d8dce",
        "collapsed": true,
        "id": "JOApKdabMrpK"
      },
      "execution_count": null,
      "outputs": [
        {
          "output_type": "stream",
          "name": "stdout",
          "text": [
            "Name: langchain\n",
            "Version: 0.3.18\n",
            "Summary: Building applications with LLMs through composability\n",
            "Home-page: \n",
            "Author: \n",
            "Author-email: \n",
            "License: MIT\n",
            "Location: /usr/local/lib/python3.11/dist-packages\n",
            "Requires: aiohttp, langchain-core, langchain-text-splitters, langsmith, numpy, pydantic, PyYAML, requests, SQLAlchemy, tenacity\n",
            "Required-by: langchain-community\n",
            "Name: langgraph\n",
            "Version: 0.2.70\n",
            "Summary: Building stateful, multi-actor applications with LLMs\n",
            "Home-page: https://www.github.com/langchain-ai/langgraph\n",
            "Author: \n",
            "Author-email: \n",
            "License: MIT\n",
            "Location: /usr/local/lib/python3.11/dist-packages\n",
            "Requires: langchain-core, langgraph-checkpoint, langgraph-sdk\n",
            "Required-by: \n"
          ]
        }
      ]
    },
    {
      "cell_type": "markdown",
      "source": [
        "### LOADING API KEY"
      ],
      "metadata": {
        "id": "FLoeGUiOMrpL"
      }
    },
    {
      "cell_type": "code",
      "source": [
        "import os\n",
        "os.environ[\"OPENAI_API_KEY\"] =\"sk-proj-ulX3z********JKFU8CUAYWg7y8Ge8pROt\"\n",
        "os.environ[\"ANTHROPIC_API_KEY\"]=\"sk-ant-*****Yrs4bmmTp3hDmAaVang-IsYoZAAA\"\n",
        "os.environ[\"GOOGLE_API_KEY\"] =\"AIzaSy***********************MTJMtvzSDmziA\"\n",
        "os.environ[\"GROQ_API_KEY\"] =\"gsk_DI**************ifbW5XXVUtlxWcRRXwc3EDrc\"\n",
        "os.environ[\"RESEND_API_KEY\"] = \"re_6PfLRE****************UrruN6uc5EwdJavr\"\n",
        "\n",
        "\n",
        "os.environ[\"LANGCHAIN_TRACING_V2\"] = \"true\"\n",
        "os.environ[\"LANGCHAIN_PROJECT\"] = f\"ReAct AGENT EXPERIMENTS\"\n",
        "os.environ[\"LANGCHAIN_ENDPOINT\"] = \"https://api.smith.langchain.com\"\n",
        "os.environ[\"LANGCHAIN_API_KEY\"] = \"lsv2_pt_4ce9*********cd65c_37d096d1b5\""
      ],
      "metadata": {
        "id": "SAJFRdQ6MrpL"
      },
      "execution_count": null,
      "outputs": []
    },
    {
      "cell_type": "markdown",
      "source": [
        "## TESTING THE MODEL RESPONSE"
      ],
      "metadata": {
        "id": "zlR8t8zAMrpL"
      }
    },
    {
      "cell_type": "markdown",
      "source": [
        "### OPENAI"
      ],
      "metadata": {
        "id": "JUCPai5xi6aA"
      }
    },
    {
      "cell_type": "code",
      "source": [
        "from langchain_openai import ChatOpenAI\n",
        "import pprint\n",
        "\n",
        "# Create an instance of the OpenAI class\n",
        "# llm = ChatOpenAI(model=\"gpt-4o\")\n",
        "llm = ChatOpenAI(model=\"o1-mini\")\n",
        "# llm = ChatOpenAI(model=\"o1-preview\")\n",
        "\n",
        "# Generate text\n",
        "prompt = \"Who is Sam Altman (in one sentence)\"\n",
        "response = llm.invoke(prompt)\n",
        "# print(response)\n",
        "pprint.pprint(response.content)"
      ],
      "metadata": {
        "id": "Sfc1cHMYieYg",
        "colab": {
          "base_uri": "https://localhost:8080/"
        },
        "outputId": "7e37a28e-7820-492d-eae8-747054792fd8"
      },
      "execution_count": null,
      "outputs": [
        {
          "output_type": "stream",
          "name": "stdout",
          "text": [
            "('Sam Altman is an American entrepreneur and investor, best known as the CEO '\n",
            " 'of OpenAI and the former president of the startup accelerator Y Combinator.')\n"
          ]
        }
      ]
    },
    {
      "cell_type": "markdown",
      "source": [
        "### ANTHROPIC"
      ],
      "metadata": {
        "id": "aekPpJgMi_qA"
      }
    },
    {
      "cell_type": "code",
      "source": [
        "from langchain_anthropic import ChatAnthropic\n",
        "from langchain.prompts import ChatPromptTemplate\n",
        "\n",
        "claude_model = ChatAnthropic(\n",
        "    model=\"claude-3-5-sonnet-20240620\",\n",
        "    api_key=os.getenv(\"ANTHROPIC_API_KEY\"),  # Pass the API key here\n",
        "    temperature=0,\n",
        "    max_tokens=1024,\n",
        "    timeout=None,\n",
        "    max_retries=2,\n",
        "    # other params...\n",
        ")\n",
        "\n",
        "prompt = \"Who is Sam Altman (in one sentence)\"\n",
        "response = claude_model.invoke(prompt)\n",
        "\n",
        "# print(response.content)\n",
        "pprint.pprint(response.content)\n"
      ],
      "metadata": {
        "colab": {
          "base_uri": "https://localhost:8080/"
        },
        "id": "Rbp3-2nyjEOZ",
        "outputId": "1a84635c-5d13-4094-d9e5-37126cfdde05"
      },
      "execution_count": null,
      "outputs": [
        {
          "output_type": "stream",
          "name": "stdout",
          "text": [
            "('Sam Altman is an American entrepreneur and investor, best known as the CEO '\n",
            " 'of OpenAI and former president of Y Combinator, who has played a significant '\n",
            " 'role in shaping the tech industry and advancing artificial intelligence '\n",
            " 'research.')\n"
          ]
        }
      ]
    },
    {
      "cell_type": "markdown",
      "source": [
        "### GROQ - LLAMA 3.1"
      ],
      "metadata": {
        "id": "4SHCWpr41Fn-"
      }
    },
    {
      "cell_type": "code",
      "source": [
        "from langchain_groq import ChatGroq\n",
        "\n",
        "groq_model = ChatGroq(\n",
        "    model=\"llama-3.3-70b-versatile\",\n",
        "    # model=\"llama-3.1-70b-versatile\",\n",
        "    temperature=0,\n",
        "    max_tokens=1024,\n",
        "    timeout=None,\n",
        "    max_retries=2,\n",
        "    # other params...\n",
        ")\n",
        "\n",
        "from langchain.schema import HumanMessage, SystemMessage, AIMessage\n",
        "\n",
        "messages = [\n",
        "    SystemMessage(content=\"You are a helpful AI assistant. When you introduce yourself, let the user know what LLM you are based on.\"),\n",
        "    HumanMessage(content=\"Who is Sam Altman (in one sentence)?\")\n",
        "]\n",
        "\n",
        "response = groq_model.invoke(messages)\n",
        "\n",
        "# print(response.content)\n",
        "pprint.pprint(response.content)"
      ],
      "metadata": {
        "id": "FVkHytUb1Nue",
        "colab": {
          "base_uri": "https://localhost:8080/"
        },
        "outputId": "ef69b580-28d7-42c3-cafe-ba150638bf97"
      },
      "execution_count": null,
      "outputs": [
        {
          "output_type": "stream",
          "name": "stdout",
          "text": [
            "(\"I'm an AI assistant based on LLaMA, and Sam Altman is the CEO of OpenAI, a \"\n",
            " 'leading artificial intelligence research organization and developer of AI '\n",
            " 'models like myself, as well as other notable technologies such as ChatGPT.')\n"
          ]
        }
      ]
    },
    {
      "cell_type": "markdown",
      "source": [
        "### GOOGLE GEMINI PRO"
      ],
      "metadata": {
        "id": "GEUIwxye3Ojv"
      }
    },
    {
      "cell_type": "code",
      "source": [
        "from langchain_google_genai import ChatGoogleGenerativeAI\n",
        "\n",
        "google_model = ChatGoogleGenerativeAI(\n",
        "    model=\"gemini-2.0-flash-exp\",\n",
        "    # model=\"gemini-1.5-pro\",\n",
        "    api_key=os.getenv(\"GOOGLE_API_KEY\"),  # Pass the API key here\n",
        "    temperature=0,\n",
        "    max_tokens=1024,\n",
        "    timeout=None,\n",
        "    max_retries=2,\n",
        "    # other params...\n",
        ")\n",
        "\n",
        "from langchain.schema import HumanMessage, SystemMessage, AIMessage\n",
        "\n",
        "messages = [\n",
        "    SystemMessage(content=\"You are a helpful AI assistant. When you introduce yourself, let the user know what specific LLM you are based on.\"),\n",
        "    HumanMessage(content=\"Who is Sam Harris (in one sentence)?\")\n",
        "]\n",
        "\n",
        "response = google_model.invoke(messages)\n",
        "\n",
        "print(response.content)\n",
        "# pprint.pprint(response.content)"
      ],
      "metadata": {
        "colab": {
          "base_uri": "https://localhost:8080/"
        },
        "id": "vvk8jCcL3ST_",
        "outputId": "e7fbb317-4e62-4c0e-b105-543f29ef5d4a"
      },
      "execution_count": null,
      "outputs": [
        {
          "output_type": "stream",
          "name": "stdout",
          "text": [
            "I am a large language model, trained by Google.\n",
            "\n",
            "Sam Harris is an American author, philosopher, neuroscientist, and podcast host known for his views on atheism, secularism, free will, and ethics.\n"
          ]
        }
      ]
    },
    {
      "cell_type": "markdown",
      "source": [
        "# ReAct Agent in My Graph"
      ],
      "metadata": {
        "id": "2QoJSMxbFDcn"
      }
    },
    {
      "cell_type": "markdown",
      "source": [
        "## Modular Weather Agent"
      ],
      "metadata": {
        "id": "8XAODzjX-PN4"
      }
    },
    {
      "cell_type": "code",
      "source": [
        "from langchain_openai import ChatOpenAI\n",
        "from langchain_core.tools import tool\n",
        "from langgraph.prebuilt import create_react_agent\n",
        "\n",
        "# Define a function to modularize the weather agent\n",
        "def weather_agent(city: str):\n",
        "    \"\"\"\n",
        "    Creates a modular weather agent with its own toolset.\n",
        "    Returns the weather_agent for integration into the graph.\n",
        "    \"\"\"\n",
        "    # Define the LLM\n",
        "    llm = ChatOpenAI(model_name='gpt-4o', temperature=0.5)\n",
        "\n",
        "    # Define the weather tool\n",
        "    @tool\n",
        "    def get_weather(city: str):\n",
        "        \"\"\"Call to get the current weather. Use this anytime asked about the weather.\"\"\"\n",
        "        if city.lower() == \"paris\":\n",
        "            return \"It's always sunny in Paris.\"\n",
        "        else:\n",
        "            return \"It's cold and wet.\"\n",
        "\n",
        "    # Create the weather agent\n",
        "    weather_agent = create_react_agent(llm, tools=[get_weather])\n",
        "    return weather_agent\n"
      ],
      "metadata": {
        "id": "Ce-kPw-K-Tv4"
      },
      "execution_count": null,
      "outputs": []
    },
    {
      "cell_type": "markdown",
      "source": [
        "## Modular Financial Agent"
      ],
      "metadata": {
        "id": "n3KSEN9IS7A5"
      }
    },
    {
      "cell_type": "code",
      "source": [
        "from langchain_groq import ChatGroq\n",
        "from langchain_core.tools import tool\n",
        "from langgraph.prebuilt import create_react_agent\n",
        "from langchain_google_genai import ChatGoogleGenerativeAI\n",
        "from langchain_anthropic import ChatAnthropic\n",
        "from langchain_openai import ChatOpenAI\n",
        "\n",
        "\n",
        "# Define a function to modularize the financial agent\n",
        "def financial_agent(company: str):\n",
        "    \"\"\"\n",
        "    Creates a modular financial agent with its own toolset.\n",
        "    Returns the financial_agent for integration into the graph.\n",
        "    \"\"\"\n",
        "    # Define the LLM\n",
        "    llm = ChatOpenAI(model_name='gpt-4o', temperature=0.5)\n",
        "\n",
        "    # llm = ChatAnthropic(\n",
        "    #     # model=\"claude-3-5-sonnet-20241022\",\n",
        "    #     model=\"claude-3-opus-latest\",\n",
        "    #     temperature=0.5,\n",
        "    # )\n",
        "\n",
        "    # llm = ChatGoogleGenerativeAI(\n",
        "    #     # model=\"gemini-2.0-flash-exp\",\n",
        "    #     model=\"gemini-1.5-pro\",\n",
        "    #     temperature=0.5,\n",
        "    #     max_tokens=1024,\n",
        "    #     timeout=None,\n",
        "    #     max_retries=2,\n",
        "    # )\n",
        "\n",
        "    # llm = ChatGroq(\n",
        "    #     model=\"llama-3.1-70b-versatile\",\n",
        "    #     # model=\"llama-3.3-70b-versatile\",\n",
        "    #     temperature=0.5,\n",
        "    # )\n",
        "\n",
        "    # Define the financial tool\n",
        "    @tool\n",
        "    def get_financial_status(company: str):\n",
        "        \"\"\"Call to get the financial status of a company. Use this anytime asked about the finances of a company\"\"\"\n",
        "        if company.lower() == \"google\":\n",
        "            return \"Not so good! Google just lost the lawsuit.\"\n",
        "        else:\n",
        "            return f\"{company} is financially sound, getting better!\"\n",
        "\n",
        "    # The Custom System Prompt for the Agent\n",
        "    custom_system_prompt = \"You are a financial report assistant. You only report by using the fincial tool you're given\"\n",
        "\n",
        "    # Create the financial agent\n",
        "    financial_agent = create_react_agent(llm, tools=[get_financial_status], state_modifier=custom_system_prompt)\n",
        "    return financial_agent\n",
        "\n",
        "# Usage example for graph integration:\n",
        "# financial_agent = financial_agent()\n",
        "# graph_builder.add_node(\"financial_agent\", financial_agent)\n"
      ],
      "metadata": {
        "id": "qGR_vC_fS_1Y"
      },
      "execution_count": null,
      "outputs": []
    },
    {
      "cell_type": "markdown",
      "source": [
        "## Modular Email Agent"
      ],
      "metadata": {
        "id": "78aWyqzwctVr"
      }
    },
    {
      "cell_type": "code",
      "source": [
        "from langchain_openai import ChatOpenAI\n",
        "from langchain_core.tools import tool\n",
        "from langgraph.prebuilt import create_react_agent\n",
        "import resend\n",
        "import csv\n",
        "\n",
        "# Define a function to modularize the email agent\n",
        "def email_agent(content: str):\n",
        "    \"\"\"\n",
        "    Creates a modular email agent with its own toolset.\n",
        "    Returns the email_agent for integration into the graph.\n",
        "    \"\"\"\n",
        "    # Define the LLM\n",
        "    llm = ChatOpenAI(model_name='gpt-4o', temperature=0.5)\n",
        "\n",
        "    # Define the tool to fetch email addresses from a CSV file\n",
        "    @tool\n",
        "    def read_email_from_csv(name: str):\n",
        "        \"\"\"Fetch the email address of the given name from a CSV file.\"\"\"\n",
        "        try:\n",
        "            with open(\"email_contacts.csv\", mode=\"r\") as csvfile:\n",
        "                reader = csv.DictReader(csvfile)\n",
        "                for row in reader:\n",
        "                    if row[\"NAME\"].lower() == name.lower():\n",
        "                        return row[\"EMAIL\"]\n",
        "                return f\"No email found for {name}.\"\n",
        "        except Exception as e:\n",
        "            return f\"Error reading CSV file: {str(e)}\"\n",
        "\n",
        "    # Define the tool to send an email\n",
        "    @tool\n",
        "    def send_email(to: str, subject: str, message: str):\n",
        "        \"\"\"Send an email to the given recipient.\"\"\"\n",
        "        try:\n",
        "            resend.api_key = os.getenv(\"RESEND_API_KEY\")\n",
        "            params: resend.Emails.SendParams = {\n",
        "                \"from\": \"Cyberlorian <keyabibo@cyberizedev.com>\",\n",
        "                \"to\": [to],\n",
        "                \"subject\": subject,\n",
        "                \"html\": f\"<p>{message}</p>\"\n",
        "            }\n",
        "            resend.Emails.send(params)\n",
        "            return f\"Email sent to {to}.\"\n",
        "        except Exception as e:\n",
        "            return f\"Failed to send email: {str(e)}\"\n",
        "\n",
        "    # Define the custom system prompt for the email agent\n",
        "    custom_system_prompt = (\n",
        "    \"You are an email assistant. Your task is to help send emails using the provided tools. \"\n",
        "    \"Once you send the email plz make sure you let the user know that an email has been sent to [name provided]\"\n",
        "    \"When composing emails, follow this HTML format:\\n\\n\"\n",
        "    \"<html>\"\n",
        "    \"<body>\"\n",
        "    \"<p>Hi, this is Cyberlorian,</p>\"\n",
        "    \"<h3>A Message from General Moose:</h3>\"\n",
        "    \"<blockquote><p><strong>{Message from the user}</strong></p></blockquote>\"\n",
        "    \"<p>Sincerely,</p>\"\n",
        "    \"<h4>Sector Cybelorian R&D</h4>\"\n",
        "    \"<h4><strong>The Cyberize Group Inc.</strong></h4>\"\n",
        "    \"<h5>Transmission from the Data-Mining Caves of Endor, Abrion Sector, Outer Rim Territories, home to Cyberize AI R&D operations.</h5>\"\n",
        "    \"</body>\"\n",
        "    \"</html>\"\n",
        ")\n",
        "\n",
        "    # Create the email agent\n",
        "    email_agent = create_react_agent(llm, tools=[read_email_from_csv, send_email], state_modifier=custom_system_prompt)\n",
        "    return email_agent\n",
        "\n",
        "# ======================================== MANUAL TESTING ================================================\n",
        "# Simulate initial state with user input\n",
        "# state = {\n",
        "#     \"messages\": [{\"role\": \"user\", \"content\": \"Send an email to ashik, tell him: Hi Supreme Yoda, this is a gift from our first Cyberlorian!\"}]\n",
        "# }\n",
        "\n",
        "# # Usage example for graph integration:\n",
        "# email_agent = email_agent('ashik', 'we are well')\n",
        "\n",
        "# # Call the graph and process the state\n",
        "# response = email_agent.invoke(state)\n",
        "# print(response)\n",
        "\n",
        "# Usage example for graph integration:\n",
        "# email_agent = email_agent()\n",
        "# graph_builder.add_node(\"email_agent\", email_agent)\n"
      ],
      "metadata": {
        "id": "7Z1BAitncwbi"
      },
      "execution_count": null,
      "outputs": []
    },
    {
      "cell_type": "markdown",
      "source": [
        "## Main Graph"
      ],
      "metadata": {
        "id": "Uo4uuuTe-KeX"
      }
    },
    {
      "cell_type": "code",
      "source": [
        "from typing import TypedDict, Annotated\n",
        "from langchain_openai import ChatOpenAI\n",
        "from langchain_core.tools import tool\n",
        "from langgraph.graph import StateGraph, END\n",
        "from langgraph.prebuilt import create_react_agent\n",
        "from langgraph.graph.message import add_messages\n",
        "\n",
        "# Define the state\n",
        "class State(TypedDict):\n",
        "    messages: Annotated[list, add_messages]\n",
        "\n",
        "# Initialize the graph builder\n",
        "graph_builder = StateGraph(State)\n",
        "\n",
        "# Define the LLM\n",
        "llm = ChatOpenAI(model_name='gpt-4o', temperature=0.5)\n",
        "\n",
        "# Define the prompt_nexus node\n",
        "def prompt_nexus(state: State):\n",
        "    return {\"messages\": [llm.invoke(state[\"messages\"])]}\n",
        "\n",
        "# Add the prompt_nexus node to the graph\n",
        "graph_builder.add_node(\"prompt_nexus\", prompt_nexus)\n",
        "\n",
        "# ============================== WEATHER AGENT ====================================\n",
        "# Add Weather Agent Node\n",
        "graph_builder.add_node(\"weather_agent\", weather_agent)\n",
        "\n",
        "# Define the Weather Agent Routing function\n",
        "def route_to_weather(state: State):\n",
        "    if any(\"weather\" in message.content.lower() for message in state[\"messages\"]):\n",
        "        return \"weather_agent\"\n",
        "    return END\n",
        "\n",
        "# Add conditional edges\n",
        "graph_builder.add_conditional_edges(\"prompt_nexus\", route_to_weather, {\"weather_agent\": \"weather_agent\", END: END})\n",
        "\n",
        "# Add normal edge to Weather Agent\n",
        "graph_builder.add_edge(\"weather_agent\", END)\n",
        "\n",
        "# ============================== FINANCIAL AGENT ====================================\n",
        "# Add Financial Agent Node\n",
        "graph_builder.add_node(\"financial_agent\", financial_agent)\n",
        "\n",
        "# Define the Financial Agent Routing function\n",
        "def route_to_finance(state: State):\n",
        "    if any(\"financial\" in message.content.lower() or \"finance\" in message.content.lower() for message in state[\"messages\"]):\n",
        "        return \"financial_agent\"\n",
        "    return END\n",
        "\n",
        "# Add conditional edges\n",
        "graph_builder.add_conditional_edges(\"prompt_nexus\", route_to_finance, {\"financial_agent\": \"financial_agent\", END: END})\n",
        "\n",
        "# Add normal edge to Financial Agent\n",
        "graph_builder.add_edge(\"financial_agent\", END)\n",
        "\n",
        "# ============================== EMAIL AGENT ====================================\n",
        "# Add Financial Agent Node\n",
        "graph_builder.add_node(\"email_agent\", email_agent)\n",
        "\n",
        "# Define the Email Agent Routing function\n",
        "def route_to_email(state: State):\n",
        "    if any(\"email\" in message.content.lower() or \"send\" in message.content.lower() for message in state[\"messages\"]):\n",
        "        return \"email_agent\"\n",
        "    return END\n",
        "\n",
        "# Add conditional edges\n",
        "graph_builder.add_conditional_edges(\"prompt_nexus\", route_to_email, {\"email_agent\": \"email_agent\", END: END})\n",
        "\n",
        "# Add normal edge to Financial Agent\n",
        "graph_builder.add_edge(\"email_agent\", END)\n",
        "\n",
        "\n",
        "# ============================== SET ENTRY POINT ===========================================\n",
        "graph_builder.set_entry_point(\"prompt_nexus\")\n",
        "\n",
        "# ============================== COMPILE THE GRAPH ======================================\n",
        "# graph = graph_builder.compile()\n",
        "# graph\n"
      ],
      "metadata": {
        "id": "6O7-Ui0LFKVH",
        "colab": {
          "base_uri": "https://localhost:8080/"
        },
        "outputId": "c723f5b5-b76d-4b63-da92-1e2c8c2154db"
      },
      "execution_count": null,
      "outputs": [
        {
          "output_type": "execute_result",
          "data": {
            "text/plain": [
              "<langgraph.graph.state.StateGraph at 0x7c5da3ee51d0>"
            ]
          },
          "metadata": {},
          "execution_count": 56
        }
      ]
    },
    {
      "cell_type": "markdown",
      "source": [
        "## Add Conversional Memory & Compile Graph"
      ],
      "metadata": {
        "id": "2MS-yhZO2erI"
      }
    },
    {
      "cell_type": "code",
      "execution_count": null,
      "metadata": {
        "id": "3b12114d-2b9c-44ec-90ef-be5a672a322a",
        "collapsed": true,
        "colab": {
          "base_uri": "https://localhost:8080/",
          "height": 350
        },
        "outputId": "4a17565f-8810-4fc5-cc3c-a1dae259e7c2"
      },
      "outputs": [
        {
          "output_type": "execute_result",
          "data": {
            "text/plain": [
              "<langgraph.graph.state.CompiledStateGraph object at 0x7c5da26dc290>"
            ],
            "image/png": "[encoded data removed]"
          },
          "metadata": {},
          "execution_count": 57
        }
      ],
      "source": [
        "from langgraph.checkpoint.memory import MemorySaver\n",
        "\n",
        "memory = MemorySaver()\n",
        "\n",
        "graph = graph_builder.compile(checkpointer=memory) # ADDING MEMORY\n",
        "\n",
        "graph"
      ]
    },
    {
      "cell_type": "markdown",
      "source": [
        "## Chat With Your Graph"
      ],
      "metadata": {
        "id": "4SS7ZmCN2nxf"
      }
    },
    {
      "cell_type": "code",
      "source": [
        "from langchain_core.messages import HumanMessage\n",
        "\n",
        "while True:\n",
        "\n",
        "    user_input = input('User: ')\n",
        "    if user_input.lower() in ['quit', 'exit', 'bye',  'q']:\n",
        "        print('Goodbye!')\n",
        "        break\n",
        "\n",
        "    config = {'configurable': {'thread_id': '1'}}\n",
        "\n",
        "    # response = graph.invoke({'messages': ('user', user_input)})\n",
        "    response = graph.invoke({'messages': ('user', user_input)}, config=config)\n",
        "\n",
        "    print('Assistant: ', response['messages'][-1].content)\n",
        "    print('-' * 50)"
      ],
      "metadata": {
        "id": "_0N5uT6BbnJ1",
        "colab": {
          "base_uri": "https://localhost:8080/"
        },
        "outputId": "441539d3-7f21-4f71-edac-5502bf33053e"
      },
      "execution_count": null,
      "outputs": [
        {
          "output_type": "stream",
          "name": "stdout",
          "text": [
            "User: hi I am moose from atlanta\n",
            "Assistant:  Hi Moose from Atlanta! How can I assist you today?\n",
            "--------------------------------------------------\n",
            "User: send an email to moose ... tell him: Whatup dawwgh! This was sent by and AI Agent\n",
            "Assistant:  The email has been sent to Moose at htmlfive.dev@gmail.com.\n",
            "--------------------------------------------------\n",
            "User: what is the financial status of google\n",
            "Assistant:  The current financial status of Google indicates a setback, as they have just lost a lawsuit. This could have implications on their financial standing, but for more detailed and specific financial metrics, it would be best to consult their latest financial reports or news updates.\n",
            "--------------------------------------------------\n",
            "User: how about openai status?\n",
            "Assistant:  OpenAI is currently financially sound and is reportedly improving its financial standing. This positive outlook suggests stability and growth in their operations and financial health.\n",
            "--------------------------------------------------\n",
            "User: what's the London weather\n",
            "Assistant:  The current weather in London is cold and wet. Make sure to dress warmly and carry an umbrella if you're heading outside!\n",
            "--------------------------------------------------\n",
            "User: how about paris\n",
            "Assistant:  The current weather in Paris is sunny. Enjoy the sunshine if you're there!\n",
            "--------------------------------------------------\n",
            "User: bye\n",
            "Goodbye!\n"
          ]
        }
      ]
    }
  ]
}